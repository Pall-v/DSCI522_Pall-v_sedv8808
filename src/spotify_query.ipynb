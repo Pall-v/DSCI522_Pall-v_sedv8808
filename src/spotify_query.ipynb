{
 "cells": [
  {
   "cell_type": "code",
   "execution_count": 76,
   "metadata": {},
   "outputs": [
    {
     "data": {
      "text/plain": [
       "[[0.832,\n",
       "  0.772,\n",
       "  10,\n",
       "  -5.429,\n",
       "  1,\n",
       "  0.1,\n",
       "  0.0559,\n",
       "  0.000486,\n",
       "  0.44,\n",
       "  0.704,\n",
       "  96.016,\n",
       "  'audio_features',\n",
       "  '3QwBODjSEzelZyVjxPOHdq',\n",
       "  'spotify:track:3QwBODjSEzelZyVjxPOHdq',\n",
       "  'https://api.spotify.com/v1/tracks/3QwBODjSEzelZyVjxPOHdq',\n",
       "  'https://api.spotify.com/v1/audio-analysis/3QwBODjSEzelZyVjxPOHdq',\n",
       "  209453,\n",
       "  4],\n",
       " [0.66,\n",
       "  0.786,\n",
       "  2,\n",
       "  -4.757,\n",
       "  1,\n",
       "  0.17,\n",
       "  0.209,\n",
       "  0,\n",
       "  0.112,\n",
       "  0.846,\n",
       "  177.833,\n",
       "  'audio_features',\n",
       "  '4aWmUDTfIPGksMNLV2rQP2',\n",
       "  'spotify:track:4aWmUDTfIPGksMNLV2rQP2',\n",
       "  'https://api.spotify.com/v1/tracks/4aWmUDTfIPGksMNLV2rQP2',\n",
       "  'https://api.spotify.com/v1/audio-analysis/4aWmUDTfIPGksMNLV2rQP2',\n",
       "  228200,\n",
       "  4]]"
      ]
     },
     "execution_count": 76,
     "metadata": {},
     "output_type": "execute_result"
    }
   ],
   "source": [
    "# Adapted from https://gist.github.com/iannase/38427b791a860a1f791b5fbba1791592\n",
    "\n",
    "import os\n",
    "import sys\n",
    "import json\n",
    "import spotipy\n",
    "\n",
    "import spotipy.util as util\n",
    "\n",
    "\n",
    "\n",
    "\n",
    "# get token from here: https://developer.spotify.com/console/get-audio-features-several-tracks/\n",
    "token=\"BQCqg3A7XWvytxuutYzfpxHtSX2NHfid6dM600NmBd6w8PGJKj5SZhE4--4wiXyWzXtiT9UMJEI0oxIL_D3FQzWPI7qtK3hV1kJ3aGDZUgAm9rgMvpdlzR6MeU3UDwgBbsn7C1VbKhtrBSmSAkjm2iFYRwyx1BT2-Q\"\n",
    "\n",
    "# Create our spotify object with permissions\n",
    "spotifyObject = spotipy.Spotify(auth=token)\n",
    "\n",
    "#track ids separated by commas, no spaces\n",
    "searchResults = spotifyObject.audio_features(\"3QwBODjSEzelZyVjxPOHdq,4aWmUDTfIPGksMNLV2rQP2\")\n",
    "\n",
    "# create list\n",
    "trackAttributesList = []\n",
    "for item in searchResults:\n",
    "    trackAttributes = []\n",
    "    for a in item:\n",
    "        trackAttributes.append(item[a])\n",
    "    trackAttributesList.append(trackAttributes)\n",
    "\n",
    "\n",
    "trackAttributesList\n",
    "\n",
    "#print(json.dumps(SearchResults, sort_keys=True, indent=4))"
   ]
  },
  {
   "cell_type": "code",
   "execution_count": null,
   "metadata": {},
   "outputs": [],
   "source": [
    "# keeping this in case needed...\n",
    "# shows audio analysis for the given track\n",
    "\n",
    "from __future__ import print_function    # (at top of module)\n",
    "from spotipy.oauth2 import SpotifyClientCredentials\n",
    "import json\n",
    "import spotipy\n",
    "import time\n",
    "import sys\n",
    "\n",
    "\n",
    "client_credentials_manager = SpotifyClientCredentials()\n",
    "sp = spotipy.Spotify(client_credentials_manager=client_credentials_manager)\n",
    "\n",
    "if len(sys.argv) > 1:\n",
    "    tid = sys.argv[1]\n",
    "else:\n",
    "    tid = 'spotify:track:4TTV7EcfroSLWzXRY6gLv6'\n",
    "\n",
    "start = time.time()\n",
    "analysis = sp.audio_analysis(tid)\n",
    "delta = time.time() - start\n",
    "print(json.dumps(analysis, indent=4))\n",
    "print (\"analysis retrieved in %.2f seconds\" % (delta,))"
   ]
  },
  {
   "cell_type": "code",
   "execution_count": null,
   "metadata": {},
   "outputs": [],
   "source": []
  }
 ],
 "metadata": {
  "kernelspec": {
   "display_name": "Python 3",
   "language": "python",
   "name": "python3"
  },
  "language_info": {
   "codemirror_mode": {
    "name": "ipython",
    "version": 3
   },
   "file_extension": ".py",
   "mimetype": "text/x-python",
   "name": "python",
   "nbconvert_exporter": "python",
   "pygments_lexer": "ipython3",
   "version": "3.6.5"
  },
  "varInspector": {
   "cols": {
    "lenName": 16,
    "lenType": 16,
    "lenVar": 40
   },
   "kernels_config": {
    "python": {
     "delete_cmd_postfix": "",
     "delete_cmd_prefix": "del ",
     "library": "var_list.py",
     "varRefreshCmd": "print(var_dic_list())"
    },
    "r": {
     "delete_cmd_postfix": ") ",
     "delete_cmd_prefix": "rm(",
     "library": "var_list.r",
     "varRefreshCmd": "cat(var_dic_list()) "
    }
   },
   "types_to_exclude": [
    "module",
    "function",
    "builtin_function_or_method",
    "instance",
    "_Feature"
   ],
   "window_display": false
  }
 },
 "nbformat": 4,
 "nbformat_minor": 2
}
